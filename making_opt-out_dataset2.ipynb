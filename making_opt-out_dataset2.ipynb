{
  "cells": [
    {
      "cell_type": "code",
      "execution_count": null,
      "metadata": {
        "id": "2p0Q_x0d4BtC"
      },
      "outputs": [],
      "source": [
        "# !unzip \"/content/drive/MyDrive/JunctionX 2022/csv/junction.zip\""
      ]
    },
    {
      "cell_type": "code",
      "execution_count": null,
      "metadata": {
        "id": "248MxUefjM-q"
      },
      "outputs": [],
      "source": [
        "activityDict = {\n",
        "    \"5e81c0432aaf8181a700000b\":\"Complete your profile\",\n",
        "    \"5e58ccd22cf1905a748b463e\":\"Joined the Program\",\n",
        "    \"5ea68d90b377830a00000070\":\"Earn bonus +150 points on your next purchase!\",\n",
        "    \"5f8417903f4cfd120c8b458f\":\"Complete your referral with a purchase\",\n",
        "    \"6242aa0bdebd8b2ee87c3631\":\"Redeem a Reward\",\n",
        "    \"6242aa6a2905fe804038a9bc\":\"Upgrade to Silver Loyalty Tier\",\n",
        "    \"6242d76edebd8b77890fb4e2\":\"Upgrade to Gold Loyalty Tier\",\n",
        "    \"624409683f7d41816127e659\":\"Bought a Staples Piece\",\n",
        "    \"624409cc3f7d41816127e65f\":\"Made 2 Friend Referrals\",\n",
        "    \"62440ac160ace45d990760bd\":\"Made 3 Transactions\",\n",
        "    \"62440b123d9f9884723b8aa5\":\"Make a Retail Purchase\",\n",
        "}"
      ]
    },
    {
      "cell_type": "code",
      "execution_count": null,
      "metadata": {
        "id": "-_KkuPcASpH5"
      },
      "outputs": [],
      "source": [
        "import pandas as pd\n",
        "\n"
      ]
    },
    {
      "cell_type": "code",
      "execution_count": null,
      "metadata": {
        "id": "IGCEdvhl-_PX"
      },
      "outputs": [],
      "source": [
        "from pandas.core.array_algos.transforms import shift\n",
        "def customer_journey(customer_id):\n",
        "  customer = opt_out[\"customer\"] == customer_id\n",
        "  return opt_out[customer].sort_values(by=['timestamp']).reset_index(drop=True)\n",
        "# \"opted_out_1598722664:142d64be24a2efe2c37f5617790622f223d87943\"\n",
        "\n",
        "def get_last_action_before_opt_out(df, shouldReturnAction = False):\n",
        "  isOptOut = df[\"action\"] == \"opt_out\"\n",
        "  try:\n",
        "    indexOfActionBeforeOptOut = df[isOptOut].index[0] - 1\n",
        "  except:\n",
        "    print(\"An exception occurred\")\n",
        "    print(df)\n",
        "  if(shouldReturnAction):\n",
        "    if (df.iloc[indexOfActionBeforeOptOut][\"action\"] == \"activity\"):\n",
        "      return activityDict[df.iloc[indexOfActionBeforeOptOut][\"properties.activity\"]]\n",
        "    else:\n",
        "      return df.iloc[indexOfActionBeforeOptOut][\"action\"]\n",
        "  return df.iloc[indexOfActionBeforeOptOut]\n",
        "\n",
        "def getTimeDifference(df):\n",
        "  isOptOut = df[\"action\"] == \"opt_out\"\n",
        "  return (df[isOptOut][\"unix_timestamp\"] - get_last_action_before_opt_out(df)[\"unix_timestamp\"])/ (3600 * 24)"
      ]
    },
    {
      "cell_type": "code",
      "execution_count": null,
      "metadata": {
        "colab": {
          "base_uri": "https://localhost:8080/"
        },
        "id": "iIrvcOMYbnsa",
        "outputId": "4799c78f-7bb0-4712-f8dc-e2d213b619e1"
      },
      "outputs": [
        {
          "data": {
            "text/plain": [
              "Index(['_id', 'timestamp', 'unix_timestamp', 'date', 'customer', 'action',\n",
              "       'points', 'properties.transaction_id', 'properties.total',\n",
              "       'properties.currency', 'properties.discount', 'properties.shipping',\n",
              "       'properties.gift_card_amount', 'properties.billing_country',\n",
              "       'properties.store_credit_amount', 'properties.bonus_points', 'expdate',\n",
              "       'expired', 'used_points', 'properties.quantity', 'properties.referred',\n",
              "       'properties.reward', 'properties.subtotal', 'properties.customer',\n",
              "       'properties.product_category', 'properties.purchase_total',\n",
              "       'properties.personal_style', 'properties.transfer_to',\n",
              "       'properties.points_rewarded', 'properties.price',\n",
              "       'properties.shoe_size', 'properties.activity', 'properties.gender',\n",
              "       'properties.points', 'properties.giftcard_id',\n",
              "       'properties.marketing_optin', 'properties.occupation',\n",
              "       'properties.has_kid', 'properties.purchase_count', 'properties.on_sale',\n",
              "       'properties.giftcard_expires_at', 'properties.product_id'],\n",
              "      dtype='object')"
            ]
          },
          "execution_count": 19,
          "metadata": {},
          "output_type": "execute_result"
        }
      ],
      "source": [
        "opt_out = pd.read_csv('/content/drive/MyDrive/opt-out_customer_history.csv');\n",
        "opt_out.columns"
      ]
    },
    {
      "cell_type": "code",
      "execution_count": null,
      "metadata": {
        "colab": {
          "base_uri": "https://localhost:8080/",
          "height": 661
        },
        "id": "s6XVG5BMh_a5",
        "outputId": "192eefc9-891b-4518-f498-9809b1dbab4c"
      },
      "outputs": [
        {
          "data": {
            "text/html": [
              "\n",
              "  <div id=\"df-49fe12b3-ee29-4e34-9d27-df848ce2ceef\">\n",
              "    <div class=\"colab-df-container\">\n",
              "      <div>\n",
              "<style scoped>\n",
              "    .dataframe tbody tr th:only-of-type {\n",
              "        vertical-align: middle;\n",
              "    }\n",
              "\n",
              "    .dataframe tbody tr th {\n",
              "        vertical-align: top;\n",
              "    }\n",
              "\n",
              "    .dataframe thead th {\n",
              "        text-align: right;\n",
              "    }\n",
              "</style>\n",
              "<table border=\"1\" class=\"dataframe\">\n",
              "  <thead>\n",
              "    <tr style=\"text-align: right;\">\n",
              "      <th></th>\n",
              "      <th>_id</th>\n",
              "      <th>timestamp</th>\n",
              "      <th>unix_timestamp</th>\n",
              "      <th>customer</th>\n",
              "      <th>action</th>\n",
              "      <th>properties.activity</th>\n",
              "      <th>properties.points</th>\n",
              "    </tr>\n",
              "  </thead>\n",
              "  <tbody>\n",
              "    <tr>\n",
              "      <th>0</th>\n",
              "      <td>5ede46e9bd4bfd6f558b456c</td>\n",
              "      <td>2020-06-08T14:10:49.946Z</td>\n",
              "      <td>1591625449</td>\n",
              "      <td>opted_out_1598722664:142d64be24a2efe2c37f56177...</td>\n",
              "      <td>checkout</td>\n",
              "      <td>NaN</td>\n",
              "      <td>NaN</td>\n",
              "    </tr>\n",
              "    <tr>\n",
              "      <th>1</th>\n",
              "      <td>5ede4842bf4bfdc8528b456c</td>\n",
              "      <td>2020-06-08T14:16:34.281Z</td>\n",
              "      <td>1591625794</td>\n",
              "      <td>opted_out_1598722664:142d64be24a2efe2c37f56177...</td>\n",
              "      <td>checkout</td>\n",
              "      <td>NaN</td>\n",
              "      <td>NaN</td>\n",
              "    </tr>\n",
              "    <tr>\n",
              "      <th>2</th>\n",
              "      <td>5ede4a91bc4bfdd4588b456c</td>\n",
              "      <td>2020-06-08T14:26:25.115Z</td>\n",
              "      <td>1591626385</td>\n",
              "      <td>opted_out_1598722641:d8d064b85370985866897e046...</td>\n",
              "      <td>checkout</td>\n",
              "      <td>NaN</td>\n",
              "      <td>NaN</td>\n",
              "    </tr>\n",
              "    <tr>\n",
              "      <th>3</th>\n",
              "      <td>5ede5a05be4bfde1698b456c</td>\n",
              "      <td>2020-06-08T15:32:21.501Z</td>\n",
              "      <td>1591630341</td>\n",
              "      <td>opted_out_1598722706:adae0d962084d1b45c6ecb189...</td>\n",
              "      <td>checkout</td>\n",
              "      <td>NaN</td>\n",
              "      <td>NaN</td>\n",
              "    </tr>\n",
              "    <tr>\n",
              "      <th>4</th>\n",
              "      <td>5ede5a30be4bfd146a8b456c</td>\n",
              "      <td>2020-06-08T15:33:04.395Z</td>\n",
              "      <td>1591630384</td>\n",
              "      <td>opted_out_1598722706:adae0d962084d1b45c6ecb189...</td>\n",
              "      <td>checkout</td>\n",
              "      <td>NaN</td>\n",
              "      <td>NaN</td>\n",
              "    </tr>\n",
              "    <tr>\n",
              "      <th>...</th>\n",
              "      <td>...</td>\n",
              "      <td>...</td>\n",
              "      <td>...</td>\n",
              "      <td>...</td>\n",
              "      <td>...</td>\n",
              "      <td>...</td>\n",
              "      <td>...</td>\n",
              "    </tr>\n",
              "    <tr>\n",
              "      <th>3601</th>\n",
              "      <td>628e0da5eddaf2487f481d32</td>\n",
              "      <td>2022-05-25T11:06:12.864Z</td>\n",
              "      <td>1653476772</td>\n",
              "      <td>opted_out_1655257744:d29b6528c88203ac7442216bb...</td>\n",
              "      <td>checkout_item</td>\n",
              "      <td>NaN</td>\n",
              "      <td>NaN</td>\n",
              "    </tr>\n",
              "    <tr>\n",
              "      <th>3602</th>\n",
              "      <td>628e23742959425357702b94</td>\n",
              "      <td>2022-05-25T12:39:16.082Z</td>\n",
              "      <td>1653482356</td>\n",
              "      <td>opted_out_1655257744:d29b6528c88203ac7442216bb...</td>\n",
              "      <td>checkout_item</td>\n",
              "      <td>NaN</td>\n",
              "      <td>NaN</td>\n",
              "    </tr>\n",
              "    <tr>\n",
              "      <th>3603</th>\n",
              "      <td>628e249fa12acf311c7e6196</td>\n",
              "      <td>2022-05-25T12:44:15.053Z</td>\n",
              "      <td>1653482655</td>\n",
              "      <td>opted_out_1655257744:d29b6528c88203ac7442216bb...</td>\n",
              "      <td>checkout_item</td>\n",
              "      <td>NaN</td>\n",
              "      <td>NaN</td>\n",
              "    </tr>\n",
              "    <tr>\n",
              "      <th>3604</th>\n",
              "      <td>629d91d34562f1486136fee4</td>\n",
              "      <td>2022-06-06T05:34:11.011Z</td>\n",
              "      <td>1654493651</td>\n",
              "      <td>opted_out_1655257744:d29b6528c88203ac7442216bb...</td>\n",
              "      <td>checkout_item</td>\n",
              "      <td>NaN</td>\n",
              "      <td>NaN</td>\n",
              "    </tr>\n",
              "    <tr>\n",
              "      <th>3605</th>\n",
              "      <td>629d91d34562f1486136fee3</td>\n",
              "      <td>2022-06-06T05:34:11.011Z</td>\n",
              "      <td>1654493651</td>\n",
              "      <td>opted_out_1655257744:d29b6528c88203ac7442216bb...</td>\n",
              "      <td>checkout_item</td>\n",
              "      <td>NaN</td>\n",
              "      <td>NaN</td>\n",
              "    </tr>\n",
              "  </tbody>\n",
              "</table>\n",
              "<p>3606 rows × 7 columns</p>\n",
              "</div>\n",
              "      <button class=\"colab-df-convert\" onclick=\"convertToInteractive('df-49fe12b3-ee29-4e34-9d27-df848ce2ceef')\"\n",
              "              title=\"Convert this dataframe to an interactive table.\"\n",
              "              style=\"display:none;\">\n",
              "        \n",
              "  <svg xmlns=\"http://www.w3.org/2000/svg\" height=\"24px\"viewBox=\"0 0 24 24\"\n",
              "       width=\"24px\">\n",
              "    <path d=\"M0 0h24v24H0V0z\" fill=\"none\"/>\n",
              "    <path d=\"M18.56 5.44l.94 2.06.94-2.06 2.06-.94-2.06-.94-.94-2.06-.94 2.06-2.06.94zm-11 1L8.5 8.5l.94-2.06 2.06-.94-2.06-.94L8.5 2.5l-.94 2.06-2.06.94zm10 10l.94 2.06.94-2.06 2.06-.94-2.06-.94-.94-2.06-.94 2.06-2.06.94z\"/><path d=\"M17.41 7.96l-1.37-1.37c-.4-.4-.92-.59-1.43-.59-.52 0-1.04.2-1.43.59L10.3 9.45l-7.72 7.72c-.78.78-.78 2.05 0 2.83L4 21.41c.39.39.9.59 1.41.59.51 0 1.02-.2 1.41-.59l7.78-7.78 2.81-2.81c.8-.78.8-2.07 0-2.86zM5.41 20L4 18.59l7.72-7.72 1.47 1.35L5.41 20z\"/>\n",
              "  </svg>\n",
              "      </button>\n",
              "      \n",
              "  <style>\n",
              "    .colab-df-container {\n",
              "      display:flex;\n",
              "      flex-wrap:wrap;\n",
              "      gap: 12px;\n",
              "    }\n",
              "\n",
              "    .colab-df-convert {\n",
              "      background-color: #E8F0FE;\n",
              "      border: none;\n",
              "      border-radius: 50%;\n",
              "      cursor: pointer;\n",
              "      display: none;\n",
              "      fill: #1967D2;\n",
              "      height: 32px;\n",
              "      padding: 0 0 0 0;\n",
              "      width: 32px;\n",
              "    }\n",
              "\n",
              "    .colab-df-convert:hover {\n",
              "      background-color: #E2EBFA;\n",
              "      box-shadow: 0px 1px 2px rgba(60, 64, 67, 0.3), 0px 1px 3px 1px rgba(60, 64, 67, 0.15);\n",
              "      fill: #174EA6;\n",
              "    }\n",
              "\n",
              "    [theme=dark] .colab-df-convert {\n",
              "      background-color: #3B4455;\n",
              "      fill: #D2E3FC;\n",
              "    }\n",
              "\n",
              "    [theme=dark] .colab-df-convert:hover {\n",
              "      background-color: #434B5C;\n",
              "      box-shadow: 0px 1px 3px 1px rgba(0, 0, 0, 0.15);\n",
              "      filter: drop-shadow(0px 1px 2px rgba(0, 0, 0, 0.3));\n",
              "      fill: #FFFFFF;\n",
              "    }\n",
              "  </style>\n",
              "\n",
              "      <script>\n",
              "        const buttonEl =\n",
              "          document.querySelector('#df-49fe12b3-ee29-4e34-9d27-df848ce2ceef button.colab-df-convert');\n",
              "        buttonEl.style.display =\n",
              "          google.colab.kernel.accessAllowed ? 'block' : 'none';\n",
              "\n",
              "        async function convertToInteractive(key) {\n",
              "          const element = document.querySelector('#df-49fe12b3-ee29-4e34-9d27-df848ce2ceef');\n",
              "          const dataTable =\n",
              "            await google.colab.kernel.invokeFunction('convertToInteractive',\n",
              "                                                     [key], {});\n",
              "          if (!dataTable) return;\n",
              "\n",
              "          const docLinkHtml = 'Like what you see? Visit the ' +\n",
              "            '<a target=\"_blank\" href=https://colab.research.google.com/notebooks/data_table.ipynb>data table notebook</a>'\n",
              "            + ' to learn more about interactive tables.';\n",
              "          element.innerHTML = '';\n",
              "          dataTable['output_type'] = 'display_data';\n",
              "          await google.colab.output.renderOutput(dataTable, element);\n",
              "          const docLink = document.createElement('div');\n",
              "          docLink.innerHTML = docLinkHtml;\n",
              "          element.appendChild(docLink);\n",
              "        }\n",
              "      </script>\n",
              "    </div>\n",
              "  </div>\n",
              "  "
            ],
            "text/plain": [
              "                           _id                 timestamp  unix_timestamp  \\\n",
              "0     5ede46e9bd4bfd6f558b456c  2020-06-08T14:10:49.946Z      1591625449   \n",
              "1     5ede4842bf4bfdc8528b456c  2020-06-08T14:16:34.281Z      1591625794   \n",
              "2     5ede4a91bc4bfdd4588b456c  2020-06-08T14:26:25.115Z      1591626385   \n",
              "3     5ede5a05be4bfde1698b456c  2020-06-08T15:32:21.501Z      1591630341   \n",
              "4     5ede5a30be4bfd146a8b456c  2020-06-08T15:33:04.395Z      1591630384   \n",
              "...                        ...                       ...             ...   \n",
              "3601  628e0da5eddaf2487f481d32  2022-05-25T11:06:12.864Z      1653476772   \n",
              "3602  628e23742959425357702b94  2022-05-25T12:39:16.082Z      1653482356   \n",
              "3603  628e249fa12acf311c7e6196  2022-05-25T12:44:15.053Z      1653482655   \n",
              "3604  629d91d34562f1486136fee4  2022-06-06T05:34:11.011Z      1654493651   \n",
              "3605  629d91d34562f1486136fee3  2022-06-06T05:34:11.011Z      1654493651   \n",
              "\n",
              "                                               customer         action  \\\n",
              "0     opted_out_1598722664:142d64be24a2efe2c37f56177...       checkout   \n",
              "1     opted_out_1598722664:142d64be24a2efe2c37f56177...       checkout   \n",
              "2     opted_out_1598722641:d8d064b85370985866897e046...       checkout   \n",
              "3     opted_out_1598722706:adae0d962084d1b45c6ecb189...       checkout   \n",
              "4     opted_out_1598722706:adae0d962084d1b45c6ecb189...       checkout   \n",
              "...                                                 ...            ...   \n",
              "3601  opted_out_1655257744:d29b6528c88203ac7442216bb...  checkout_item   \n",
              "3602  opted_out_1655257744:d29b6528c88203ac7442216bb...  checkout_item   \n",
              "3603  opted_out_1655257744:d29b6528c88203ac7442216bb...  checkout_item   \n",
              "3604  opted_out_1655257744:d29b6528c88203ac7442216bb...  checkout_item   \n",
              "3605  opted_out_1655257744:d29b6528c88203ac7442216bb...  checkout_item   \n",
              "\n",
              "     properties.activity  properties.points  \n",
              "0                    NaN                NaN  \n",
              "1                    NaN                NaN  \n",
              "2                    NaN                NaN  \n",
              "3                    NaN                NaN  \n",
              "4                    NaN                NaN  \n",
              "...                  ...                ...  \n",
              "3601                 NaN                NaN  \n",
              "3602                 NaN                NaN  \n",
              "3603                 NaN                NaN  \n",
              "3604                 NaN                NaN  \n",
              "3605                 NaN                NaN  \n",
              "\n",
              "[3606 rows x 7 columns]"
            ]
          },
          "execution_count": 20,
          "metadata": {},
          "output_type": "execute_result"
        }
      ],
      "source": [
        "opt_out = opt_out[['_id', 'timestamp', 'unix_timestamp', 'customer', 'action','properties.activity']]\n",
        " \n",
        "opt_out"
      ]
    },
    {
      "cell_type": "code",
      "execution_count": null,
      "metadata": {
        "colab": {
          "base_uri": "https://localhost:8080/"
        },
        "id": "nfmqILw-j5fE",
        "outputId": "31f584bc-2c2b-456f-ec26-fa8621fd11ab"
      },
      "outputs": [
        {
          "data": {
            "text/plain": [
              "activity             522\n",
              "points_expired       506\n",
              "level_up             486\n",
              "opt_out              465\n",
              "opt_in               464\n",
              "reward               446\n",
              "profile              266\n",
              "checkout_item        141\n",
              "checkout             122\n",
              "level_set             34\n",
              "coupon_redeem         28\n",
              "profile_completed     26\n",
              "program_transfer      22\n",
              "point_add             17\n",
              "level_down            14\n",
              "referral              13\n",
              "daily_login           13\n",
              "point_sub             11\n",
              "refund                 8\n",
              "referral_points        1\n",
              "campaign_bonus         1\n",
              "Name: action, dtype: int64"
            ]
          },
          "execution_count": 27,
          "metadata": {},
          "output_type": "execute_result"
        }
      ],
      "source": [
        "opt_out['action'].value_counts()"
      ]
    },
    {
      "cell_type": "code",
      "execution_count": null,
      "metadata": {
        "id": "FFP62x2a4UUS"
      },
      "outputs": [],
      "source": [
        "unique_customer_id = pd.unique(opt_out['customer']).tolist()"
      ]
    },
    {
      "cell_type": "code",
      "execution_count": null,
      "metadata": {
        "colab": {
          "base_uri": "https://localhost:8080/",
          "height": 990
        },
        "id": "gZsA2HEDtkHL",
        "outputId": "11925368-00e3-4c78-8002-c6522888e736"
      },
      "outputs": [
        {
          "data": {
            "text/html": [
              "\n",
              "  <div id=\"df-15b80d79-f3bb-4b04-8508-69bf648a1105\">\n",
              "    <div class=\"colab-df-container\">\n",
              "      <div>\n",
              "<style scoped>\n",
              "    .dataframe tbody tr th:only-of-type {\n",
              "        vertical-align: middle;\n",
              "    }\n",
              "\n",
              "    .dataframe tbody tr th {\n",
              "        vertical-align: top;\n",
              "    }\n",
              "\n",
              "    .dataframe thead th {\n",
              "        text-align: right;\n",
              "    }\n",
              "</style>\n",
              "<table border=\"1\" class=\"dataframe\">\n",
              "  <thead>\n",
              "    <tr style=\"text-align: right;\">\n",
              "      <th></th>\n",
              "      <th>_id</th>\n",
              "      <th>timestamp</th>\n",
              "      <th>unix_timestamp</th>\n",
              "      <th>customer</th>\n",
              "      <th>action</th>\n",
              "      <th>properties.activity</th>\n",
              "      <th>properties.points</th>\n",
              "    </tr>\n",
              "  </thead>\n",
              "  <tbody>\n",
              "    <tr>\n",
              "      <th>0</th>\n",
              "      <td>5ed94ed3b44bfd0a088b4828</td>\n",
              "      <td>2020-06-04T19:43:15.187Z</td>\n",
              "      <td>1591299795</td>\n",
              "      <td>opted_out_1598722664:142d64be24a2efe2c37f56177...</td>\n",
              "      <td>opt_in</td>\n",
              "      <td>NaN</td>\n",
              "      <td>NaN</td>\n",
              "    </tr>\n",
              "    <tr>\n",
              "      <th>1</th>\n",
              "      <td>5ed94ed4b44bfd0a088b482e</td>\n",
              "      <td>2020-06-04T19:43:16.481Z</td>\n",
              "      <td>1591299796</td>\n",
              "      <td>opted_out_1598722664:142d64be24a2efe2c37f56177...</td>\n",
              "      <td>reward</td>\n",
              "      <td>NaN</td>\n",
              "      <td>NaN</td>\n",
              "    </tr>\n",
              "    <tr>\n",
              "      <th>2</th>\n",
              "      <td>5ed94ed5b44bfd0a088b4837</td>\n",
              "      <td>2020-06-04T19:43:17.139Z</td>\n",
              "      <td>1591299797</td>\n",
              "      <td>opted_out_1598722664:142d64be24a2efe2c37f56177...</td>\n",
              "      <td>level_up</td>\n",
              "      <td>NaN</td>\n",
              "      <td>NaN</td>\n",
              "    </tr>\n",
              "    <tr>\n",
              "      <th>3</th>\n",
              "      <td>5ed94edbb44bfd0a088b4840</td>\n",
              "      <td>2020-06-04T19:43:23.214Z</td>\n",
              "      <td>1591299803</td>\n",
              "      <td>opted_out_1598722664:142d64be24a2efe2c37f56177...</td>\n",
              "      <td>activity</td>\n",
              "      <td>5e58ccd22cf1905a748b463e</td>\n",
              "      <td>NaN</td>\n",
              "    </tr>\n",
              "    <tr>\n",
              "      <th>4</th>\n",
              "      <td>5ede46e9bd4bfd6f558b456c</td>\n",
              "      <td>2020-06-08T14:10:49.946Z</td>\n",
              "      <td>1591625449</td>\n",
              "      <td>opted_out_1598722664:142d64be24a2efe2c37f56177...</td>\n",
              "      <td>checkout</td>\n",
              "      <td>NaN</td>\n",
              "      <td>NaN</td>\n",
              "    </tr>\n",
              "    <tr>\n",
              "      <th>5</th>\n",
              "      <td>5ede46eabd4bfd6f558b457b</td>\n",
              "      <td>2020-06-08T14:10:50.129Z</td>\n",
              "      <td>1591625450</td>\n",
              "      <td>opted_out_1598722664:142d64be24a2efe2c37f56177...</td>\n",
              "      <td>level_up</td>\n",
              "      <td>NaN</td>\n",
              "      <td>NaN</td>\n",
              "    </tr>\n",
              "    <tr>\n",
              "      <th>6</th>\n",
              "      <td>5ede4709bd4bfd8c558b456f</td>\n",
              "      <td>2020-06-08T14:11:21.351Z</td>\n",
              "      <td>1591625481</td>\n",
              "      <td>opted_out_1598722664:142d64be24a2efe2c37f56177...</td>\n",
              "      <td>reward</td>\n",
              "      <td>NaN</td>\n",
              "      <td>NaN</td>\n",
              "    </tr>\n",
              "    <tr>\n",
              "      <th>7</th>\n",
              "      <td>5ede4842bf4bfdc8528b456c</td>\n",
              "      <td>2020-06-08T14:16:34.281Z</td>\n",
              "      <td>1591625794</td>\n",
              "      <td>opted_out_1598722664:142d64be24a2efe2c37f56177...</td>\n",
              "      <td>checkout</td>\n",
              "      <td>NaN</td>\n",
              "      <td>NaN</td>\n",
              "    </tr>\n",
              "    <tr>\n",
              "      <th>8</th>\n",
              "      <td>5ede4842bf4bfdc8528b4571</td>\n",
              "      <td>2020-06-08T14:16:34.300Z</td>\n",
              "      <td>1591625794</td>\n",
              "      <td>opted_out_1598722664:142d64be24a2efe2c37f56177...</td>\n",
              "      <td>activity</td>\n",
              "      <td>5ea68d90b377830a00000070</td>\n",
              "      <td>NaN</td>\n",
              "    </tr>\n",
              "    <tr>\n",
              "      <th>9</th>\n",
              "      <td>5ede4842bf4bfdc8528b457e</td>\n",
              "      <td>2020-06-08T14:16:34.557Z</td>\n",
              "      <td>1591625794</td>\n",
              "      <td>opted_out_1598722664:142d64be24a2efe2c37f56177...</td>\n",
              "      <td>level_up</td>\n",
              "      <td>NaN</td>\n",
              "      <td>NaN</td>\n",
              "    </tr>\n",
              "    <tr>\n",
              "      <th>10</th>\n",
              "      <td>5ede484dbf4bfdc8528b4596</td>\n",
              "      <td>2020-06-08T14:16:45.645Z</td>\n",
              "      <td>1591625805</td>\n",
              "      <td>opted_out_1598722664:142d64be24a2efe2c37f56177...</td>\n",
              "      <td>reward</td>\n",
              "      <td>NaN</td>\n",
              "      <td>NaN</td>\n",
              "    </tr>\n",
              "    <tr>\n",
              "      <th>11</th>\n",
              "      <td>5eef83993a9ad3ca7b8b56dd</td>\n",
              "      <td>2020-06-21T15:58:17.219Z</td>\n",
              "      <td>1592755097</td>\n",
              "      <td>opted_out_1598722664:142d64be24a2efe2c37f56177...</td>\n",
              "      <td>reward</td>\n",
              "      <td>NaN</td>\n",
              "      <td>NaN</td>\n",
              "    </tr>\n",
              "    <tr>\n",
              "      <th>12</th>\n",
              "      <td>5f4a92680f4cfd521e8b45ce</td>\n",
              "      <td>2020-08-29T17:37:44.553Z</td>\n",
              "      <td>1598722664</td>\n",
              "      <td>opted_out_1598722664:142d64be24a2efe2c37f56177...</td>\n",
              "      <td>opt_out</td>\n",
              "      <td>NaN</td>\n",
              "      <td>NaN</td>\n",
              "    </tr>\n",
              "    <tr>\n",
              "      <th>13</th>\n",
              "      <td>61aa66abef50b3c42b8c60b0</td>\n",
              "      <td>2021-12-03T18:49:15.738Z</td>\n",
              "      <td>1638557355</td>\n",
              "      <td>opted_out_1598722664:142d64be24a2efe2c37f56177...</td>\n",
              "      <td>points_expired</td>\n",
              "      <td>NaN</td>\n",
              "      <td>NaN</td>\n",
              "    </tr>\n",
              "    <tr>\n",
              "      <th>14</th>\n",
              "      <td>61aa9492ef50b31c318c845f</td>\n",
              "      <td>2021-12-03T22:05:06.837Z</td>\n",
              "      <td>1638569106</td>\n",
              "      <td>opted_out_1598722664:142d64be24a2efe2c37f56177...</td>\n",
              "      <td>points_expired</td>\n",
              "      <td>NaN</td>\n",
              "      <td>NaN</td>\n",
              "    </tr>\n",
              "    <tr>\n",
              "      <th>15</th>\n",
              "      <td>61aa9492ef50b31c318c846a</td>\n",
              "      <td>2021-12-03T22:05:06.887Z</td>\n",
              "      <td>1638569106</td>\n",
              "      <td>opted_out_1598722664:142d64be24a2efe2c37f56177...</td>\n",
              "      <td>points_expired</td>\n",
              "      <td>NaN</td>\n",
              "      <td>NaN</td>\n",
              "    </tr>\n",
              "    <tr>\n",
              "      <th>16</th>\n",
              "      <td>61aa9492ef50b31c318c846b</td>\n",
              "      <td>2021-12-03T22:05:06.893Z</td>\n",
              "      <td>1638569106</td>\n",
              "      <td>opted_out_1598722664:142d64be24a2efe2c37f56177...</td>\n",
              "      <td>points_expired</td>\n",
              "      <td>NaN</td>\n",
              "      <td>NaN</td>\n",
              "    </tr>\n",
              "    <tr>\n",
              "      <th>17</th>\n",
              "      <td>629a50aba344627837011d63</td>\n",
              "      <td>2022-06-03T18:19:23.429Z</td>\n",
              "      <td>1654280363</td>\n",
              "      <td>opted_out_1598722664:142d64be24a2efe2c37f56177...</td>\n",
              "      <td>level_down</td>\n",
              "      <td>NaN</td>\n",
              "      <td>NaN</td>\n",
              "    </tr>\n",
              "  </tbody>\n",
              "</table>\n",
              "</div>\n",
              "      <button class=\"colab-df-convert\" onclick=\"convertToInteractive('df-15b80d79-f3bb-4b04-8508-69bf648a1105')\"\n",
              "              title=\"Convert this dataframe to an interactive table.\"\n",
              "              style=\"display:none;\">\n",
              "        \n",
              "  <svg xmlns=\"http://www.w3.org/2000/svg\" height=\"24px\"viewBox=\"0 0 24 24\"\n",
              "       width=\"24px\">\n",
              "    <path d=\"M0 0h24v24H0V0z\" fill=\"none\"/>\n",
              "    <path d=\"M18.56 5.44l.94 2.06.94-2.06 2.06-.94-2.06-.94-.94-2.06-.94 2.06-2.06.94zm-11 1L8.5 8.5l.94-2.06 2.06-.94-2.06-.94L8.5 2.5l-.94 2.06-2.06.94zm10 10l.94 2.06.94-2.06 2.06-.94-2.06-.94-.94-2.06-.94 2.06-2.06.94z\"/><path d=\"M17.41 7.96l-1.37-1.37c-.4-.4-.92-.59-1.43-.59-.52 0-1.04.2-1.43.59L10.3 9.45l-7.72 7.72c-.78.78-.78 2.05 0 2.83L4 21.41c.39.39.9.59 1.41.59.51 0 1.02-.2 1.41-.59l7.78-7.78 2.81-2.81c.8-.78.8-2.07 0-2.86zM5.41 20L4 18.59l7.72-7.72 1.47 1.35L5.41 20z\"/>\n",
              "  </svg>\n",
              "      </button>\n",
              "      \n",
              "  <style>\n",
              "    .colab-df-container {\n",
              "      display:flex;\n",
              "      flex-wrap:wrap;\n",
              "      gap: 12px;\n",
              "    }\n",
              "\n",
              "    .colab-df-convert {\n",
              "      background-color: #E8F0FE;\n",
              "      border: none;\n",
              "      border-radius: 50%;\n",
              "      cursor: pointer;\n",
              "      display: none;\n",
              "      fill: #1967D2;\n",
              "      height: 32px;\n",
              "      padding: 0 0 0 0;\n",
              "      width: 32px;\n",
              "    }\n",
              "\n",
              "    .colab-df-convert:hover {\n",
              "      background-color: #E2EBFA;\n",
              "      box-shadow: 0px 1px 2px rgba(60, 64, 67, 0.3), 0px 1px 3px 1px rgba(60, 64, 67, 0.15);\n",
              "      fill: #174EA6;\n",
              "    }\n",
              "\n",
              "    [theme=dark] .colab-df-convert {\n",
              "      background-color: #3B4455;\n",
              "      fill: #D2E3FC;\n",
              "    }\n",
              "\n",
              "    [theme=dark] .colab-df-convert:hover {\n",
              "      background-color: #434B5C;\n",
              "      box-shadow: 0px 1px 3px 1px rgba(0, 0, 0, 0.15);\n",
              "      filter: drop-shadow(0px 1px 2px rgba(0, 0, 0, 0.3));\n",
              "      fill: #FFFFFF;\n",
              "    }\n",
              "  </style>\n",
              "\n",
              "      <script>\n",
              "        const buttonEl =\n",
              "          document.querySelector('#df-15b80d79-f3bb-4b04-8508-69bf648a1105 button.colab-df-convert');\n",
              "        buttonEl.style.display =\n",
              "          google.colab.kernel.accessAllowed ? 'block' : 'none';\n",
              "\n",
              "        async function convertToInteractive(key) {\n",
              "          const element = document.querySelector('#df-15b80d79-f3bb-4b04-8508-69bf648a1105');\n",
              "          const dataTable =\n",
              "            await google.colab.kernel.invokeFunction('convertToInteractive',\n",
              "                                                     [key], {});\n",
              "          if (!dataTable) return;\n",
              "\n",
              "          const docLinkHtml = 'Like what you see? Visit the ' +\n",
              "            '<a target=\"_blank\" href=https://colab.research.google.com/notebooks/data_table.ipynb>data table notebook</a>'\n",
              "            + ' to learn more about interactive tables.';\n",
              "          element.innerHTML = '';\n",
              "          dataTable['output_type'] = 'display_data';\n",
              "          await google.colab.output.renderOutput(dataTable, element);\n",
              "          const docLink = document.createElement('div');\n",
              "          docLink.innerHTML = docLinkHtml;\n",
              "          element.appendChild(docLink);\n",
              "        }\n",
              "      </script>\n",
              "    </div>\n",
              "  </div>\n",
              "  "
            ],
            "text/plain": [
              "                         _id                 timestamp  unix_timestamp  \\\n",
              "0   5ed94ed3b44bfd0a088b4828  2020-06-04T19:43:15.187Z      1591299795   \n",
              "1   5ed94ed4b44bfd0a088b482e  2020-06-04T19:43:16.481Z      1591299796   \n",
              "2   5ed94ed5b44bfd0a088b4837  2020-06-04T19:43:17.139Z      1591299797   \n",
              "3   5ed94edbb44bfd0a088b4840  2020-06-04T19:43:23.214Z      1591299803   \n",
              "4   5ede46e9bd4bfd6f558b456c  2020-06-08T14:10:49.946Z      1591625449   \n",
              "5   5ede46eabd4bfd6f558b457b  2020-06-08T14:10:50.129Z      1591625450   \n",
              "6   5ede4709bd4bfd8c558b456f  2020-06-08T14:11:21.351Z      1591625481   \n",
              "7   5ede4842bf4bfdc8528b456c  2020-06-08T14:16:34.281Z      1591625794   \n",
              "8   5ede4842bf4bfdc8528b4571  2020-06-08T14:16:34.300Z      1591625794   \n",
              "9   5ede4842bf4bfdc8528b457e  2020-06-08T14:16:34.557Z      1591625794   \n",
              "10  5ede484dbf4bfdc8528b4596  2020-06-08T14:16:45.645Z      1591625805   \n",
              "11  5eef83993a9ad3ca7b8b56dd  2020-06-21T15:58:17.219Z      1592755097   \n",
              "12  5f4a92680f4cfd521e8b45ce  2020-08-29T17:37:44.553Z      1598722664   \n",
              "13  61aa66abef50b3c42b8c60b0  2021-12-03T18:49:15.738Z      1638557355   \n",
              "14  61aa9492ef50b31c318c845f  2021-12-03T22:05:06.837Z      1638569106   \n",
              "15  61aa9492ef50b31c318c846a  2021-12-03T22:05:06.887Z      1638569106   \n",
              "16  61aa9492ef50b31c318c846b  2021-12-03T22:05:06.893Z      1638569106   \n",
              "17  629a50aba344627837011d63  2022-06-03T18:19:23.429Z      1654280363   \n",
              "\n",
              "                                             customer          action  \\\n",
              "0   opted_out_1598722664:142d64be24a2efe2c37f56177...          opt_in   \n",
              "1   opted_out_1598722664:142d64be24a2efe2c37f56177...          reward   \n",
              "2   opted_out_1598722664:142d64be24a2efe2c37f56177...        level_up   \n",
              "3   opted_out_1598722664:142d64be24a2efe2c37f56177...        activity   \n",
              "4   opted_out_1598722664:142d64be24a2efe2c37f56177...        checkout   \n",
              "5   opted_out_1598722664:142d64be24a2efe2c37f56177...        level_up   \n",
              "6   opted_out_1598722664:142d64be24a2efe2c37f56177...          reward   \n",
              "7   opted_out_1598722664:142d64be24a2efe2c37f56177...        checkout   \n",
              "8   opted_out_1598722664:142d64be24a2efe2c37f56177...        activity   \n",
              "9   opted_out_1598722664:142d64be24a2efe2c37f56177...        level_up   \n",
              "10  opted_out_1598722664:142d64be24a2efe2c37f56177...          reward   \n",
              "11  opted_out_1598722664:142d64be24a2efe2c37f56177...          reward   \n",
              "12  opted_out_1598722664:142d64be24a2efe2c37f56177...         opt_out   \n",
              "13  opted_out_1598722664:142d64be24a2efe2c37f56177...  points_expired   \n",
              "14  opted_out_1598722664:142d64be24a2efe2c37f56177...  points_expired   \n",
              "15  opted_out_1598722664:142d64be24a2efe2c37f56177...  points_expired   \n",
              "16  opted_out_1598722664:142d64be24a2efe2c37f56177...  points_expired   \n",
              "17  opted_out_1598722664:142d64be24a2efe2c37f56177...      level_down   \n",
              "\n",
              "         properties.activity  properties.points  \n",
              "0                        NaN                NaN  \n",
              "1                        NaN                NaN  \n",
              "2                        NaN                NaN  \n",
              "3   5e58ccd22cf1905a748b463e                NaN  \n",
              "4                        NaN                NaN  \n",
              "5                        NaN                NaN  \n",
              "6                        NaN                NaN  \n",
              "7                        NaN                NaN  \n",
              "8   5ea68d90b377830a00000070                NaN  \n",
              "9                        NaN                NaN  \n",
              "10                       NaN                NaN  \n",
              "11                       NaN                NaN  \n",
              "12                       NaN                NaN  \n",
              "13                       NaN                NaN  \n",
              "14                       NaN                NaN  \n",
              "15                       NaN                NaN  \n",
              "16                       NaN                NaN  \n",
              "17                       NaN                NaN  "
            ]
          },
          "execution_count": 22,
          "metadata": {},
          "output_type": "execute_result"
        }
      ],
      "source": [
        "model_journey = customer_journey(unique_customer_id[0])\n",
        "model_journey"
      ]
    },
    {
      "cell_type": "code",
      "execution_count": null,
      "metadata": {
        "id": "l49fZyhn21aW"
      },
      "outputs": [],
      "source": [
        "# Visualise this journey"
      ]
    },
    {
      "cell_type": "code",
      "execution_count": null,
      "metadata": {
        "colab": {
          "base_uri": "https://localhost:8080/",
          "height": 36
        },
        "id": "iQdKsr0SQvO0",
        "outputId": "31b15ebd-f140-4b82-e543-99f74db314a4"
      },
      "outputs": [
        {
          "data": {
            "application/vnd.google.colaboratory.intrinsic+json": {
              "type": "string"
            },
            "text/plain": [
              "'reward'"
            ]
          },
          "execution_count": 23,
          "metadata": {},
          "output_type": "execute_result"
        }
      ],
      "source": [
        "get_last_action_before_opt_out(model_journey)[\"action\"]"
      ]
    },
    {
      "cell_type": "code",
      "execution_count": null,
      "metadata": {
        "colab": {
          "base_uri": "https://localhost:8080/"
        },
        "id": "_30e5iowCcr0",
        "outputId": "fab4f10d-63d1-4573-a578-7a1bfa332917"
      },
      "outputs": [
        {
          "data": {
            "text/plain": [
              "69.0690625"
            ]
          },
          "execution_count": 24,
          "metadata": {},
          "output_type": "execute_result"
        }
      ],
      "source": [
        "getTimeDifference(model_journey).values[0]"
      ]
    },
    {
      "cell_type": "code",
      "execution_count": null,
      "metadata": {
        "id": "nCWD1XWaQl5X"
      },
      "outputs": [],
      "source": [
        "detailed_list = [{\"id\" : id, \n",
        "                  \"last_action\" : get_last_action_before_opt_out(customer_journey(id), True), \n",
        "                  \"days\" : getTimeDifference(customer_journey(id)).values[0]} for id in unique_customer_id];\n",
        "detailed_list"
      ]
    },
    {
      "cell_type": "code",
      "execution_count": null,
      "metadata": {
        "id": "FquPDZinZ3H2"
      },
      "outputs": [],
      "source": [
        "opt_out_df = pd.DataFrame(detailed_list)\n",
        "opt_out_df.to_csv('opt_out_by_customer.csv')"
      ]
    },
    {
      "cell_type": "code",
      "execution_count": null,
      "metadata": {
        "id": "FM9lSk3NaQky"
      },
      "outputs": [],
      "source": [
        "opt_out_df = opt_out_df[opt_out_df['last_action'] != 'opt_out']"
      ]
    },
    {
      "cell_type": "code",
      "execution_count": null,
      "metadata": {
        "colab": {
          "base_uri": "https://localhost:8080/"
        },
        "id": "ScqsW7ikaeLg",
        "outputId": "b9afd36f-07df-4103-eefb-a87b204fe5af"
      },
      "outputs": [
        {
          "data": {
            "text/plain": [
              "Joined the Program                               196\n",
              "profile                                           84\n",
              "reward                                            73\n",
              "level_up                                          67\n",
              "point_sub                                          9\n",
              "coupon_redeem                                      7\n",
              "referral                                           6\n",
              "checkout_item                                      5\n",
              "checkout                                           4\n",
              "program_transfer                                   4\n",
              "daily_login                                        3\n",
              "point_add                                          2\n",
              "refund                                             1\n",
              "Earn bonus +150 points on your next purchase!      1\n",
              "Complete your referral with a purchase             1\n",
              "referral_points                                    1\n",
              "Name: last_action, dtype: int64"
            ]
          },
          "execution_count": 14,
          "metadata": {},
          "output_type": "execute_result"
        }
      ],
      "source": [
        "opt_out_df['last_action'].value_counts()"
      ]
    },
    {
      "cell_type": "code",
      "execution_count": null,
      "metadata": {
        "colab": {
          "base_uri": "https://localhost:8080/"
        },
        "id": "iTYv9PNIaqCQ",
        "outputId": "9e64b266-5e01-4757-d920-0a5c4fb5d6db"
      },
      "outputs": [
        {
          "data": {
            "text/plain": [
              "count    464.000000\n",
              "mean      31.048531\n",
              "std       48.356158\n",
              "min        0.000069\n",
              "25%        0.004899\n",
              "50%       10.238513\n",
              "75%       45.260825\n",
              "max      355.833924\n",
              "Name: days, dtype: float64"
            ]
          },
          "execution_count": 15,
          "metadata": {},
          "output_type": "execute_result"
        }
      ],
      "source": [
        "opt_out_df['days'].describe()"
      ]
    },
    {
      "cell_type": "code",
      "execution_count": null,
      "metadata": {
        "colab": {
          "base_uri": "https://localhost:8080/"
        },
        "id": "jn_HvuqHbLWO",
        "outputId": "e9a20118-a956-4c34-c5d9-1c7635eb13fe"
      },
      "outputs": [
        {
          "data": {
            "text/plain": [
              "Joined the Program    108\n",
              "level_up               58\n",
              "reward                 23\n",
              "profile                17\n",
              "coupon_redeem           3\n",
              "referral                3\n",
              "checkout_item           2\n",
              "checkout                1\n",
              "point_add               1\n",
              "Name: last_action, dtype: int64"
            ]
          },
          "execution_count": 16,
          "metadata": {},
          "output_type": "execute_result"
        }
      ],
      "source": [
        "opt_out_df[opt_out_df['days'] > 20]['last_action'].value_counts()"
      ]
    },
    {
      "cell_type": "code",
      "execution_count": null,
      "metadata": {
        "colab": {
          "background_save": true,
          "base_uri": "https://localhost:8080/"
        },
        "id": "sJl6oc8Ebk0C",
        "outputId": "6bb075ad-7d7a-438b-e1b0-d012ce726e9b"
      },
      "outputs": [
        {
          "data": {
            "text/plain": [
              "376    opted_out_1602434787:cc6f06361540a498fce382035...\n",
              "374    opted_out_1602434727:cc6f06361540a498fce382035...\n",
              "375    opted_out_1602434755:cc6f06361540a498fce382035...\n",
              "372    opted_out_1602434564:cc6f06361540a498fce382035...\n",
              "373    opted_out_1602434593:cc6f06361540a498fce382035...\n",
              "                             ...                        \n",
              "430    opted_out_1610525762:bf7fcb36c7f79b0d0db7b2e2c...\n",
              "279    opted_out_1657817194:53c81a25b5772285ac7a5a772...\n",
              "278    opted_out_1657176975:a9cd5f19fb6472434fee067d7...\n",
              "90     opted_out_1616332740:fb1542b8be223e2c78817dee3...\n",
              "104    opted_out_1618807979:721ae3dd8da77c6bc1db42bba...\n",
              "Name: id, Length: 196, dtype: object"
            ]
          },
          "execution_count": 36,
          "metadata": {},
          "output_type": "execute_result"
        }
      ],
      "source": [
        "joined_program_quiter = opt_out_df[opt_out_df['last_action'] == 'Joined the Program'].sort_values(by=['days'])\n",
        "joined_program_quiter['id']"
      ]
    }
  ],
  "metadata": {
    "colab": {
      "collapsed_sections": [],
      "provenance": []
    },
    "kernelspec": {
      "display_name": "Python 3",
      "name": "python3"
    },
    "language_info": {
      "name": "python"
    }
  },
  "nbformat": 4,
  "nbformat_minor": 0
}